from selenium import webdriver
from selenium.webdriver.common.by import By
from selenium.webdriver.support.ui import Select
from selenium.webdriver.chrome.service import Service
from webdriver_manager.chrome import ChromeDriverManager
import time
import os

def setup_driver():
    service = Service(ChromeDriverManager().install())
    options = webdriver.ChromeOptions()
    options.add_argument("--headless")
    options.add_argument("--no-sandbox")
    options.add_argument("--disable-dev-shm-usage")
    driver = webdriver.Chrome(service=service, options=options)
    return driver

def fetch_content():
    driver = setup_driver()
    driver.get("https://www.euro-schulen.de/detailseite/A7TH__PO_2Q18S_1/Einbuergerungstest")
    time.sleep(3)
    dropdown = Select(driver.find_element(By.ID, "orte"))
    dropdown.select_by_visible_text("Düsseldorf")
    time.sleep(3)
    options_texts = [option.text for option in dropdown.options]
    driver.quit()
    return ', '.join(options_texts)  # Returns a comma-separated string of all option texts

def detect_changes(old_content, new_content):
    return old_content != new_content

def load_last_content(file_path):
    if os.path.exists(file_path):
        with open(file_path, 'r') as file:
            return file.read()
    return ""

def save_content(file_path, content):
    with open(file_path, 'w') as file:
        file.write(content)

if __name__ == "__main__":
    content_file = "last_known_content.txt"
    initial_content = load_last_content(content_file)
    new_content = fetch_content()
    
    if detect_changes(initial_content, new_content):
        print("Content has changed.")
        save_content(content_file, new_content)
    else:
        print("Content has not changed.")


